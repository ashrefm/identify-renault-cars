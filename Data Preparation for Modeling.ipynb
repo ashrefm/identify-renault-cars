{
 "cells": [
  {
   "cell_type": "markdown",
   "metadata": {},
   "source": [
    "# This notebook can be used to process raw modeling images contained in \"renault\" and \"other\" folders in order to create a split into train and cross-validation images"
   ]
  },
  {
   "cell_type": "markdown",
   "metadata": {},
   "source": [
    "The output consists in two csv files indicating the image path and label for training and cross-validation sets.  \n",
    "We can also create HDF5 files containing the array of images in reduced size as well as their labels."
   ]
  },
  {
   "cell_type": "code",
   "execution_count": 1,
   "metadata": {
    "collapsed": true
   },
   "outputs": [],
   "source": [
    "from os import listdir\n",
    "from os.path import isfile, join\n",
    "import random\n",
    "from random import shuffle\n",
    "\n",
    "import numpy as np\n",
    "import pandas as pd\n",
    "import h5py\n",
    "import scipy\n",
    "from scipy import ndimage"
   ]
  },
  {
   "cell_type": "markdown",
   "metadata": {
    "collapsed": true
   },
   "source": [
    "## Specify framework for HDF5 data creation\n",
    "Use 'th' for Theano or 'tf' for Tensorflow"
   ]
  },
  {
   "cell_type": "code",
   "execution_count": 2,
   "metadata": {
    "collapsed": true
   },
   "outputs": [],
   "source": [
    "data_order = 'th'"
   ]
  },
  {
   "cell_type": "markdown",
   "metadata": {},
   "source": [
    "## Indicating the path for each class folder"
   ]
  },
  {
   "cell_type": "code",
   "execution_count": 3,
   "metadata": {
    "collapsed": true
   },
   "outputs": [],
   "source": [
    "class1_path = './data/modeling/renault/*.jpg' # address where to save the hdf5 file\n",
    "class2_path = './data/modeling/other/*.jpg' # address where to save the hdf5 file"
   ]
  },
  {
   "cell_type": "markdown",
   "metadata": {},
   "source": [
    "## List all images of each class"
   ]
  },
  {
   "cell_type": "code",
   "execution_count": 5,
   "metadata": {
    "collapsed": false
   },
   "outputs": [
    {
     "name": "stdout",
     "output_type": "stream",
     "text": [
      "Found 4657 class 1 images.\n",
      "Found 4657 class 2 images.\n"
     ]
    }
   ],
   "source": [
    "import glob\n",
    "class1_list = glob.glob(class1_path)\n",
    "class2_list = glob.glob(class2_path)\n",
    "\n",
    "class1_list = list(map(lambda path : path.replace('\\\\','/'), class1_list))\n",
    "class2_list = list(map(lambda path : path.replace('\\\\','/'), class2_list))\n",
    "\n",
    "print('Found', len(class1_list), 'class 1 images.')\n",
    "print('Found', len(class2_list), 'class 2 images.')"
   ]
  },
  {
   "cell_type": "markdown",
   "metadata": {},
   "source": [
    "# List Train/CV images and their labels"
   ]
  },
  {
   "cell_type": "code",
   "execution_count": 6,
   "metadata": {
    "collapsed": false
   },
   "outputs": [
    {
     "name": "stdout",
     "output_type": "stream",
     "text": [
      "train_class1: 4191\n",
      "train_class2: 4191\n",
      "cval_class1: 466\n",
      "cval_class2 466\n"
     ]
    }
   ],
   "source": [
    "random.seed(2210)\n",
    "train_ratio = 0.9\n",
    "\n",
    "train_class1 = random.sample(class1_list, int(train_ratio * len(class1_list)))\n",
    "train_class2 = random.sample(class2_list, int(train_ratio * len(class2_list)))\n",
    "cval_class1 = [img for img in class1_list if img not in train_class1]\n",
    "cval_class2 = [img for img in class2_list if img not in train_class2]\n",
    "\n",
    "print('train_class1:', len(train_class1))\n",
    "print('train_class2:', len(train_class2))\n",
    "print('cval_class1:', len(cval_class1))\n",
    "print('cval_class2', len(cval_class2))"
   ]
  },
  {
   "cell_type": "code",
   "execution_count": 7,
   "metadata": {
    "collapsed": false
   },
   "outputs": [
    {
     "name": "stdout",
     "output_type": "stream",
     "text": [
      "train_addrs: 8382\n",
      "train_labels: 8382\n",
      "cval_addrs: 932\n",
      "cval_labels: 932\n"
     ]
    }
   ],
   "source": [
    "train_addrs = train_class1 + train_class2\n",
    "cval_addrs = cval_class1 + cval_class2\n",
    "\n",
    "train_labels = [1 for number in range(len(train_class1))] + [0 for number in range(len(train_class2))]\n",
    "cval_labels = [1 for number in range(len(cval_class1))] + [0 for number in range(len(cval_class2))]\n",
    "\n",
    "# shuffle training and cross-validation data\n",
    "random.seed(2210)\n",
    "c = list(zip(train_addrs, train_labels))\n",
    "shuffle(c)\n",
    "train_addrs, train_labels = zip(*c)\n",
    "\n",
    "c = list(zip(cval_addrs, cval_labels))\n",
    "shuffle(c)\n",
    "cval_addrs, cval_labels = zip(*c)\n",
    "    \n",
    "print('train_addrs:', len(train_addrs))\n",
    "print('train_labels:', len(train_labels))\n",
    "print('cval_addrs:', len(cval_addrs))\n",
    "print('cval_labels:', len(cval_labels))"
   ]
  },
  {
   "cell_type": "markdown",
   "metadata": {},
   "source": [
    "# Save train and cross-validation images in pandas dataframes"
   ]
  },
  {
   "cell_type": "code",
   "execution_count": 8,
   "metadata": {
    "collapsed": false
   },
   "outputs": [],
   "source": [
    "train = pd.DataFrame({'image':train_addrs, 'label':train_labels})\n",
    "cval = pd.DataFrame({'image':cval_addrs, 'label':cval_labels})\n",
    "\n",
    "train.to_csv('./munge/train.csv', sep=';', index=False)\n",
    "cval.to_csv('./munge/cval.csv', sep=';', index=False)"
   ]
  },
  {
   "cell_type": "code",
   "execution_count": 9,
   "metadata": {
    "collapsed": false
   },
   "outputs": [
    {
     "data": {
      "text/html": [
       "<div>\n",
       "<style scoped>\n",
       "    .dataframe tbody tr th:only-of-type {\n",
       "        vertical-align: middle;\n",
       "    }\n",
       "\n",
       "    .dataframe tbody tr th {\n",
       "        vertical-align: top;\n",
       "    }\n",
       "\n",
       "    .dataframe thead th {\n",
       "        text-align: right;\n",
       "    }\n",
       "</style>\n",
       "<table border=\"1\" class=\"dataframe\">\n",
       "  <thead>\n",
       "    <tr style=\"text-align: right;\">\n",
       "      <th></th>\n",
       "      <th>image</th>\n",
       "      <th>label</th>\n",
       "    </tr>\n",
       "  </thead>\n",
       "  <tbody>\n",
       "    <tr>\n",
       "      <th>0</th>\n",
       "      <td>../data/modeling/renault/renault_koleos_gris_4...</td>\n",
       "      <td>1</td>\n",
       "    </tr>\n",
       "    <tr>\n",
       "      <th>1</th>\n",
       "      <td>../data/modeling/other/07685.jpg</td>\n",
       "      <td>0</td>\n",
       "    </tr>\n",
       "    <tr>\n",
       "      <th>2</th>\n",
       "      <td>../data/modeling/other/05516.jpg</td>\n",
       "      <td>0</td>\n",
       "    </tr>\n",
       "    <tr>\n",
       "      <th>3</th>\n",
       "      <td>../data/modeling/renault/renault_captur_gris_2...</td>\n",
       "      <td>1</td>\n",
       "    </tr>\n",
       "    <tr>\n",
       "      <th>4</th>\n",
       "      <td>../data/modeling/renault/renault_kadjar_gris_1...</td>\n",
       "      <td>1</td>\n",
       "    </tr>\n",
       "    <tr>\n",
       "      <th>5</th>\n",
       "      <td>../data/modeling/renault/renault_scenic_67.jpg</td>\n",
       "      <td>1</td>\n",
       "    </tr>\n",
       "    <tr>\n",
       "      <th>6</th>\n",
       "      <td>../data/modeling/renault/renault_fluence_6.jpg</td>\n",
       "      <td>1</td>\n",
       "    </tr>\n",
       "    <tr>\n",
       "      <th>7</th>\n",
       "      <td>../data/modeling/renault/renault_megane_55.jpg</td>\n",
       "      <td>1</td>\n",
       "    </tr>\n",
       "    <tr>\n",
       "      <th>8</th>\n",
       "      <td>../data/modeling/renault/renault_wing_sport_19...</td>\n",
       "      <td>1</td>\n",
       "    </tr>\n",
       "    <tr>\n",
       "      <th>9</th>\n",
       "      <td>../data/modeling/renault/renault_koleos_noir_6...</td>\n",
       "      <td>1</td>\n",
       "    </tr>\n",
       "    <tr>\n",
       "      <th>10</th>\n",
       "      <td>../data/modeling/renault/renault_captur_gris_7...</td>\n",
       "      <td>1</td>\n",
       "    </tr>\n",
       "    <tr>\n",
       "      <th>11</th>\n",
       "      <td>../data/modeling/renault/renault_laguna_noir_1...</td>\n",
       "      <td>1</td>\n",
       "    </tr>\n",
       "    <tr>\n",
       "      <th>12</th>\n",
       "      <td>../data/modeling/other/05200.jpg</td>\n",
       "      <td>0</td>\n",
       "    </tr>\n",
       "    <tr>\n",
       "      <th>13</th>\n",
       "      <td>../data/modeling/other/06636.jpg</td>\n",
       "      <td>0</td>\n",
       "    </tr>\n",
       "    <tr>\n",
       "      <th>14</th>\n",
       "      <td>../data/modeling/other/07585.jpg</td>\n",
       "      <td>0</td>\n",
       "    </tr>\n",
       "    <tr>\n",
       "      <th>15</th>\n",
       "      <td>../data/modeling/renault/renault_scenic_45.jpg</td>\n",
       "      <td>1</td>\n",
       "    </tr>\n",
       "    <tr>\n",
       "      <th>16</th>\n",
       "      <td>../data/modeling/other/07950.jpg</td>\n",
       "      <td>0</td>\n",
       "    </tr>\n",
       "    <tr>\n",
       "      <th>17</th>\n",
       "      <td>../data/modeling/renault/renault_twingo3_19.jpg</td>\n",
       "      <td>1</td>\n",
       "    </tr>\n",
       "    <tr>\n",
       "      <th>18</th>\n",
       "      <td>../data/modeling/renault/renault_wind_noir_64.jpg</td>\n",
       "      <td>1</td>\n",
       "    </tr>\n",
       "    <tr>\n",
       "      <th>19</th>\n",
       "      <td>../data/modeling/renault/renault_wind_rouge_27...</td>\n",
       "      <td>1</td>\n",
       "    </tr>\n",
       "  </tbody>\n",
       "</table>\n",
       "</div>"
      ],
      "text/plain": [
       "                                                image  label\n",
       "0   ../data/modeling/renault/renault_koleos_gris_4...      1\n",
       "1                    ../data/modeling/other/07685.jpg      0\n",
       "2                    ../data/modeling/other/05516.jpg      0\n",
       "3   ../data/modeling/renault/renault_captur_gris_2...      1\n",
       "4   ../data/modeling/renault/renault_kadjar_gris_1...      1\n",
       "5      ../data/modeling/renault/renault_scenic_67.jpg      1\n",
       "6      ../data/modeling/renault/renault_fluence_6.jpg      1\n",
       "7      ../data/modeling/renault/renault_megane_55.jpg      1\n",
       "8   ../data/modeling/renault/renault_wing_sport_19...      1\n",
       "9   ../data/modeling/renault/renault_koleos_noir_6...      1\n",
       "10  ../data/modeling/renault/renault_captur_gris_7...      1\n",
       "11  ../data/modeling/renault/renault_laguna_noir_1...      1\n",
       "12                   ../data/modeling/other/05200.jpg      0\n",
       "13                   ../data/modeling/other/06636.jpg      0\n",
       "14                   ../data/modeling/other/07585.jpg      0\n",
       "15     ../data/modeling/renault/renault_scenic_45.jpg      1\n",
       "16                   ../data/modeling/other/07950.jpg      0\n",
       "17    ../data/modeling/renault/renault_twingo3_19.jpg      1\n",
       "18  ../data/modeling/renault/renault_wind_noir_64.jpg      1\n",
       "19  ../data/modeling/renault/renault_wind_rouge_27...      1"
      ]
     },
     "execution_count": 9,
     "metadata": {},
     "output_type": "execute_result"
    }
   ],
   "source": [
    "train.head(20)"
   ]
  },
  {
   "cell_type": "markdown",
   "metadata": {},
   "source": [
    "# Create a HDF5 file (Optional, not necessary for transfer learning)"
   ]
  },
  {
   "cell_type": "markdown",
   "metadata": {},
   "source": [
    "There are two main libraries to work with HDF5 format, namely h5py and tables (PyTables).\n",
    "We will be doing this task using hdf5. For implementing the \"tables\" method, please refer to http://machinelearninguru.com/deep_learning/data_preparation/hdf5/hdf5.html  \n",
    "  \n",
    "In h5py we create an array using create_dataset. Note that we should determine the exact size of array when you are defining it. We can use the create_dataset for labels as well and immediately put the labels on it. You can set the dtype of an array directly using numpy dypes."
   ]
  },
  {
   "cell_type": "code",
   "execution_count": 9,
   "metadata": {
    "collapsed": false
   },
   "outputs": [],
   "source": [
    "# check the order of data and choose proper data shape to save images\n",
    "if data_order == 'th':\n",
    "    train_shape = (len(train_addrs), 3, 224, 224)\n",
    "    cval_shape = (len(cval_addrs), 3, 224, 224)\n",
    "elif data_order == 'tf':\n",
    "    train_shape = (len(train_addrs), 224, 224, 3)\n",
    "    cval_shape = (len(cval_addrs), 224, 224, 3)\n",
    "\n",
    "# specify location of HDF5 files\n",
    "train_hdf5_path = './munge/train.hdf5' # address where to save the train hdf5 file\n",
    "cval_hdf5_path = './munge/cval.hdf5' # address where to save the test hdf5 file\n",
    "\n",
    "# open a new train hdf5 file and create arrays\n",
    "train_hdf5_file = h5py.File(train_hdf5_path, mode='w')\n",
    "train_hdf5_file.create_dataset('features', train_shape, np.int8)\n",
    "train_hdf5_file.create_dataset('labels', (len(train_addrs),), np.int8)\n",
    "train_hdf5_file['labels'][...] = train_labels\n",
    "\n",
    "# open a new test hdf5 file and create arrays\n",
    "cval_hdf5_file = h5py.File(cval_hdf5_path, mode='w')\n",
    "cval_hdf5_file.create_dataset('features', cval_shape, np.int8)\n",
    "cval_hdf5_file.create_dataset('labels', (len(cval_addrs),), np.int8)\n",
    "cval_hdf5_file['labels'][...] = cval_labels"
   ]
  },
  {
   "cell_type": "code",
   "execution_count": 10,
   "metadata": {
    "collapsed": false
   },
   "outputs": [
    {
     "name": "stdout",
     "output_type": "stream",
     "text": [
      "Train shape: (8382, 3, 224, 224)\n",
      "C-Validation shape: (932, 3, 224, 224)\n"
     ]
    }
   ],
   "source": [
    "print('Train shape:',train_shape)\n",
    "print('C-Validation shape:', cval_shape)"
   ]
  },
  {
   "cell_type": "markdown",
   "metadata": {},
   "source": [
    "Now we can read images one by one, apply preprocessing (only resize in our code) and then save it."
   ]
  },
  {
   "cell_type": "code",
   "execution_count": 11,
   "metadata": {
    "collapsed": false
   },
   "outputs": [
    {
     "name": "stderr",
     "output_type": "stream",
     "text": [
      "C:\\Users\\Ashref\\Anaconda3\\lib\\site-packages\\ipykernel\\__main__.py:11: DeprecationWarning: `imread` is deprecated!\n",
      "`imread` is deprecated in SciPy 1.0.0.\n",
      "Use ``matplotlib.pyplot.imread`` instead.\n",
      "C:\\Users\\Ashref\\Anaconda3\\lib\\site-packages\\ipykernel\\__main__.py:12: DeprecationWarning: `imresize` is deprecated!\n",
      "`imresize` is deprecated in SciPy 1.0.0, and will be removed in 1.2.0.\n",
      "Use ``skimage.transform.resize`` instead.\n"
     ]
    },
    {
     "name": "stdout",
     "output_type": "stream",
     "text": [
      "Train data: 500/8382\n",
      "Train data: 1000/8382\n",
      "Train data: 1500/8382\n",
      "Train data: 2000/8382\n",
      "Train data: 2500/8382\n",
      "Train data: 3000/8382\n",
      "Train data: 3500/8382\n",
      "Train data: 4000/8382\n",
      "Train data: 4500/8382\n",
      "Train data: 5000/8382\n",
      "Train data: 5500/8382\n",
      "Train data: 6000/8382\n",
      "Train data: 6500/8382\n",
      "Train data: 7000/8382\n",
      "Train data: 7500/8382\n",
      "Train data: 8000/8382\n",
      "Done!\n"
     ]
    }
   ],
   "source": [
    "# loop over train addresses\n",
    "for i in range(len(train_addrs)):\n",
    "    \n",
    "    # print how many images are saved every 1000 images\n",
    "    if i % 500 == 0 and i > 1:\n",
    "        print('Train data: {}/{}'.format(i, len(train_addrs)))\n",
    "    \n",
    "    # read an image and resize to (224, 224)\n",
    "    # cv2 load images as BGR, convert it to RGB\n",
    "    addr = train_addrs[i]\n",
    "    img = np.array(ndimage.imread(addr, flatten=False))\n",
    "    img = scipy.misc.imresize(img, size=(224, 224))\n",
    "    \n",
    "    # if the data order is Theano, axis orders should change\n",
    "    if data_order == 'th':\n",
    "        img = np.rollaxis(img, 2)\n",
    "        \n",
    "    # save the image features\n",
    "    train_hdf5_file['features'][i, ...] = img[None]\n",
    "\n",
    "# close hdf5 file\n",
    "train_hdf5_file.close()\n",
    "print('Done!')"
   ]
  },
  {
   "cell_type": "code",
   "execution_count": 12,
   "metadata": {
    "collapsed": false
   },
   "outputs": [
    {
     "name": "stderr",
     "output_type": "stream",
     "text": [
      "C:\\Users\\Ashref\\Anaconda3\\lib\\site-packages\\ipykernel\\__main__.py:10: DeprecationWarning: `imread` is deprecated!\n",
      "`imread` is deprecated in SciPy 1.0.0.\n",
      "Use ``matplotlib.pyplot.imread`` instead.\n",
      "C:\\Users\\Ashref\\Anaconda3\\lib\\site-packages\\ipykernel\\__main__.py:11: DeprecationWarning: `imresize` is deprecated!\n",
      "`imresize` is deprecated in SciPy 1.0.0, and will be removed in 1.2.0.\n",
      "Use ``skimage.transform.resize`` instead.\n"
     ]
    },
    {
     "name": "stdout",
     "output_type": "stream",
     "text": [
      "C-Validation data: 100/932\n",
      "C-Validation data: 200/932\n",
      "C-Validation data: 300/932\n",
      "C-Validation data: 400/932\n",
      "C-Validation data: 500/932\n",
      "C-Validation data: 600/932\n",
      "C-Validation data: 700/932\n",
      "C-Validation data: 800/932\n",
      "C-Validation data: 900/932\n",
      "Done!\n"
     ]
    }
   ],
   "source": [
    "# loop over cross-validation addresses\n",
    "for i in range(len(cval_addrs)):\n",
    "    \n",
    "    # print how many images are saved every 100 images\n",
    "    if i % 100 == 0 and i > 1:\n",
    "        print('C-Validation data: {}/{}'.format(i, len(cval_addrs)))\n",
    "    \n",
    "    # read an image and resize to (224, 224)\n",
    "    addr = cval_addrs[i]\n",
    "    img = np.array(ndimage.imread(addr, flatten=False))\n",
    "    img = scipy.misc.imresize(img, size=(224, 224))\n",
    "    \n",
    "    # if the data order is Theano, axis orders should change\n",
    "    if data_order == 'th':\n",
    "        img = np.rollaxis(img, 2)\n",
    "        \n",
    "    # save the image features\n",
    "    cval_hdf5_file['features'][i, ...] = img[None]\n",
    "    \n",
    "cval_hdf5_file.close()\n",
    "print('Done!')"
   ]
  },
  {
   "cell_type": "code",
   "execution_count": null,
   "metadata": {
    "collapsed": true
   },
   "outputs": [],
   "source": []
  }
 ],
 "metadata": {
  "anaconda-cloud": {},
  "kernelspec": {
   "display_name": "Python [conda root]",
   "language": "python",
   "name": "conda-root-py"
  },
  "language_info": {
   "codemirror_mode": {
    "name": "ipython",
    "version": 3
   },
   "file_extension": ".py",
   "mimetype": "text/x-python",
   "name": "python",
   "nbconvert_exporter": "python",
   "pygments_lexer": "ipython3",
   "version": "3.5.2"
  }
 },
 "nbformat": 4,
 "nbformat_minor": 1
}
